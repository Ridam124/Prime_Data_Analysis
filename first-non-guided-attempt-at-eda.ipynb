{
 "cells": [
  {
   "cell_type": "code",
   "execution_count": 1,
   "id": "00605f7a",
   "metadata": {
    "_cell_guid": "b1076dfc-b9ad-4769-8c92-a6c4dae69d19",
    "_uuid": "8f2839f25d086af736a60e9eeb907d3b93b6e0e5",
    "execution": {
     "iopub.execute_input": "2022-12-22T05:54:07.625984Z",
     "iopub.status.busy": "2022-12-22T05:54:07.625475Z",
     "iopub.status.idle": "2022-12-22T05:54:07.644785Z",
     "shell.execute_reply": "2022-12-22T05:54:07.643513Z"
    },
    "papermill": {
     "duration": 0.034398,
     "end_time": "2022-12-22T05:54:07.647971",
     "exception": false,
     "start_time": "2022-12-22T05:54:07.613573",
     "status": "completed"
    },
    "tags": []
   },
   "outputs": [
    {
     "name": "stdout",
     "output_type": "stream",
     "text": [
      "/kaggle/input/amazon-prime-movies-and-tv-shows/amazon_prime_titles.csv\n"
     ]
    }
   ],
   "source": [
    "# This Python 3 environment comes with many helpful analytics libraries installed\n",
    "# It is defined by the kaggle/python Docker image: https://github.com/kaggle/docker-python\n",
    "# For example, here's several helpful packages to load\n",
    "\n",
    "import numpy as np # linear algebra\n",
    "import pandas as pd # data processing, CSV file I/O (e.g. pd.read_csv)\n",
    "\n",
    "# Input data files are available in the read-only \"../input/\" directory\n",
    "# For example, running this (by clicking run or pressing Shift+Enter) will list all files under the input directory\n",
    "\n",
    "import os\n",
    "for dirname, _, filenames in os.walk('/kaggle/input'):\n",
    "    for filename in filenames:\n",
    "        print(os.path.join(dirname, filename))\n",
    "\n",
    "# You can write up to 20GB to the current directory (/kaggle/working/) that gets preserved as output when you create a version using \"Save & Run All\" \n",
    "# You can also write temporary files to /kaggle/temp/, but they won't be saved outside of the current session"
   ]
  },
  {
   "cell_type": "markdown",
   "id": "ed6b10f4",
   "metadata": {
    "papermill": {
     "duration": 0.007689,
     "end_time": "2022-12-22T05:54:07.664264",
     "exception": false,
     "start_time": "2022-12-22T05:54:07.656575",
     "status": "completed"
    },
    "tags": []
   },
   "source": [
    "## Importing Visualization Libraries"
   ]
  },
  {
   "cell_type": "code",
   "execution_count": 2,
   "id": "eb8030ee",
   "metadata": {
    "execution": {
     "iopub.execute_input": "2022-12-22T05:54:07.682333Z",
     "iopub.status.busy": "2022-12-22T05:54:07.681889Z",
     "iopub.status.idle": "2022-12-22T05:54:08.893349Z",
     "shell.execute_reply": "2022-12-22T05:54:08.892321Z"
    },
    "papermill": {
     "duration": 1.223665,
     "end_time": "2022-12-22T05:54:08.896187",
     "exception": false,
     "start_time": "2022-12-22T05:54:07.672522",
     "status": "completed"
    },
    "tags": []
   },
   "outputs": [],
   "source": [
    "#importing pyplot and seaborn for data visualization\n",
    "import matplotlib.pyplot as plt\n",
    "import seaborn as sns"
   ]
  },
  {
   "cell_type": "markdown",
   "id": "91ad8749",
   "metadata": {
    "papermill": {
     "duration": 0.007436,
     "end_time": "2022-12-22T05:54:08.911656",
     "exception": false,
     "start_time": "2022-12-22T05:54:08.904220",
     "status": "completed"
    },
    "tags": []
   },
   "source": [
    "## Importing the dataset"
   ]
  },
  {
   "cell_type": "code",
   "execution_count": 3,
   "id": "f3d31d41",
   "metadata": {
    "execution": {
     "iopub.execute_input": "2022-12-22T05:54:08.929769Z",
     "iopub.status.busy": "2022-12-22T05:54:08.928988Z",
     "iopub.status.idle": "2022-12-22T05:54:09.085821Z",
     "shell.execute_reply": "2022-12-22T05:54:09.084538Z"
    },
    "papermill": {
     "duration": 0.169356,
     "end_time": "2022-12-22T05:54:09.088846",
     "exception": false,
     "start_time": "2022-12-22T05:54:08.919490",
     "status": "completed"
    },
    "tags": []
   },
   "outputs": [],
   "source": [
    "prime=pd.read_csv('/kaggle/input/amazon-prime-movies-and-tv-shows/amazon_prime_titles.csv')"
   ]
  },
  {
   "cell_type": "markdown",
   "id": "22d7366a",
   "metadata": {
    "papermill": {
     "duration": 0.007484,
     "end_time": "2022-12-22T05:54:09.105827",
     "exception": false,
     "start_time": "2022-12-22T05:54:09.098343",
     "status": "completed"
    },
    "tags": []
   },
   "source": [
    "## Getting the general info about the Dataset using head() and tail() "
   ]
  },
  {
   "cell_type": "code",
   "execution_count": 4,
   "id": "2396fa49",
   "metadata": {
    "execution": {
     "iopub.execute_input": "2022-12-22T05:54:09.123694Z",
     "iopub.status.busy": "2022-12-22T05:54:09.123265Z",
     "iopub.status.idle": "2022-12-22T05:54:09.150950Z",
     "shell.execute_reply": "2022-12-22T05:54:09.149531Z"
    },
    "papermill": {
     "duration": 0.039829,
     "end_time": "2022-12-22T05:54:09.153588",
     "exception": false,
     "start_time": "2022-12-22T05:54:09.113759",
     "status": "completed"
    },
    "tags": []
   },
   "outputs": [
    {
     "data": {
      "text/html": [
       "<div>\n",
       "<style scoped>\n",
       "    .dataframe tbody tr th:only-of-type {\n",
       "        vertical-align: middle;\n",
       "    }\n",
       "\n",
       "    .dataframe tbody tr th {\n",
       "        vertical-align: top;\n",
       "    }\n",
       "\n",
       "    .dataframe thead th {\n",
       "        text-align: right;\n",
       "    }\n",
       "</style>\n",
       "<table border=\"1\" class=\"dataframe\">\n",
       "  <thead>\n",
       "    <tr style=\"text-align: right;\">\n",
       "      <th></th>\n",
       "      <th>show_id</th>\n",
       "      <th>type</th>\n",
       "      <th>title</th>\n",
       "      <th>director</th>\n",
       "      <th>cast</th>\n",
       "      <th>country</th>\n",
       "      <th>date_added</th>\n",
       "      <th>release_year</th>\n",
       "      <th>rating</th>\n",
       "      <th>duration</th>\n",
       "      <th>listed_in</th>\n",
       "      <th>description</th>\n",
       "    </tr>\n",
       "  </thead>\n",
       "  <tbody>\n",
       "    <tr>\n",
       "      <th>0</th>\n",
       "      <td>s1</td>\n",
       "      <td>Movie</td>\n",
       "      <td>The Grand Seduction</td>\n",
       "      <td>Don McKellar</td>\n",
       "      <td>Brendan Gleeson, Taylor Kitsch, Gordon Pinsent</td>\n",
       "      <td>Canada</td>\n",
       "      <td>March 30, 2021</td>\n",
       "      <td>2014</td>\n",
       "      <td>NaN</td>\n",
       "      <td>113 min</td>\n",
       "      <td>Comedy, Drama</td>\n",
       "      <td>A small fishing village must procure a local d...</td>\n",
       "    </tr>\n",
       "    <tr>\n",
       "      <th>1</th>\n",
       "      <td>s2</td>\n",
       "      <td>Movie</td>\n",
       "      <td>Take Care Good Night</td>\n",
       "      <td>Girish Joshi</td>\n",
       "      <td>Mahesh Manjrekar, Abhay Mahajan, Sachin Khedekar</td>\n",
       "      <td>India</td>\n",
       "      <td>March 30, 2021</td>\n",
       "      <td>2018</td>\n",
       "      <td>13+</td>\n",
       "      <td>110 min</td>\n",
       "      <td>Drama, International</td>\n",
       "      <td>A Metro Family decides to fight a Cyber Crimin...</td>\n",
       "    </tr>\n",
       "    <tr>\n",
       "      <th>2</th>\n",
       "      <td>s3</td>\n",
       "      <td>Movie</td>\n",
       "      <td>Secrets of Deception</td>\n",
       "      <td>Josh Webber</td>\n",
       "      <td>Tom Sizemore, Lorenzo Lamas, Robert LaSardo, R...</td>\n",
       "      <td>United States</td>\n",
       "      <td>March 30, 2021</td>\n",
       "      <td>2017</td>\n",
       "      <td>NaN</td>\n",
       "      <td>74 min</td>\n",
       "      <td>Action, Drama, Suspense</td>\n",
       "      <td>After a man discovers his wife is cheating on ...</td>\n",
       "    </tr>\n",
       "  </tbody>\n",
       "</table>\n",
       "</div>"
      ],
      "text/plain": [
       "  show_id   type                 title      director  \\\n",
       "0      s1  Movie   The Grand Seduction  Don McKellar   \n",
       "1      s2  Movie  Take Care Good Night  Girish Joshi   \n",
       "2      s3  Movie  Secrets of Deception   Josh Webber   \n",
       "\n",
       "                                                cast        country  \\\n",
       "0     Brendan Gleeson, Taylor Kitsch, Gordon Pinsent         Canada   \n",
       "1   Mahesh Manjrekar, Abhay Mahajan, Sachin Khedekar          India   \n",
       "2  Tom Sizemore, Lorenzo Lamas, Robert LaSardo, R...  United States   \n",
       "\n",
       "       date_added  release_year rating duration                listed_in  \\\n",
       "0  March 30, 2021          2014    NaN  113 min            Comedy, Drama   \n",
       "1  March 30, 2021          2018    13+  110 min     Drama, International   \n",
       "2  March 30, 2021          2017    NaN   74 min  Action, Drama, Suspense   \n",
       "\n",
       "                                         description  \n",
       "0  A small fishing village must procure a local d...  \n",
       "1  A Metro Family decides to fight a Cyber Crimin...  \n",
       "2  After a man discovers his wife is cheating on ...  "
      ]
     },
     "execution_count": 4,
     "metadata": {},
     "output_type": "execute_result"
    }
   ],
   "source": [
    "prime.head(3)"
   ]
  },
  {
   "cell_type": "code",
   "execution_count": 5,
   "id": "252b5f32",
   "metadata": {
    "execution": {
     "iopub.execute_input": "2022-12-22T05:54:09.173660Z",
     "iopub.status.busy": "2022-12-22T05:54:09.172271Z",
     "iopub.status.idle": "2022-12-22T05:54:09.189901Z",
     "shell.execute_reply": "2022-12-22T05:54:09.188510Z"
    },
    "papermill": {
     "duration": 0.029654,
     "end_time": "2022-12-22T05:54:09.192381",
     "exception": false,
     "start_time": "2022-12-22T05:54:09.162727",
     "status": "completed"
    },
    "tags": []
   },
   "outputs": [
    {
     "data": {
      "text/html": [
       "<div>\n",
       "<style scoped>\n",
       "    .dataframe tbody tr th:only-of-type {\n",
       "        vertical-align: middle;\n",
       "    }\n",
       "\n",
       "    .dataframe tbody tr th {\n",
       "        vertical-align: top;\n",
       "    }\n",
       "\n",
       "    .dataframe thead th {\n",
       "        text-align: right;\n",
       "    }\n",
       "</style>\n",
       "<table border=\"1\" class=\"dataframe\">\n",
       "  <thead>\n",
       "    <tr style=\"text-align: right;\">\n",
       "      <th></th>\n",
       "      <th>show_id</th>\n",
       "      <th>type</th>\n",
       "      <th>title</th>\n",
       "      <th>director</th>\n",
       "      <th>cast</th>\n",
       "      <th>country</th>\n",
       "      <th>date_added</th>\n",
       "      <th>release_year</th>\n",
       "      <th>rating</th>\n",
       "      <th>duration</th>\n",
       "      <th>listed_in</th>\n",
       "      <th>description</th>\n",
       "    </tr>\n",
       "  </thead>\n",
       "  <tbody>\n",
       "    <tr>\n",
       "      <th>9665</th>\n",
       "      <td>s9666</td>\n",
       "      <td>Movie</td>\n",
       "      <td>Outpost</td>\n",
       "      <td>Steve Barker</td>\n",
       "      <td>Ray Stevenson, Julian Wadham, Richard Brake, M...</td>\n",
       "      <td>NaN</td>\n",
       "      <td>NaN</td>\n",
       "      <td>2008</td>\n",
       "      <td>R</td>\n",
       "      <td>90 min</td>\n",
       "      <td>Action</td>\n",
       "      <td>In war-torn Eastern Europe, a world-weary grou...</td>\n",
       "    </tr>\n",
       "    <tr>\n",
       "      <th>9666</th>\n",
       "      <td>s9667</td>\n",
       "      <td>TV Show</td>\n",
       "      <td>Maradona: Blessed Dream</td>\n",
       "      <td>NaN</td>\n",
       "      <td>Esteban Recagno, Ezequiel Stremiz, Luciano Vit...</td>\n",
       "      <td>NaN</td>\n",
       "      <td>NaN</td>\n",
       "      <td>2021</td>\n",
       "      <td>TV-MA</td>\n",
       "      <td>1 Season</td>\n",
       "      <td>Drama, Sports</td>\n",
       "      <td>The series tells the story of Diego Maradona, ...</td>\n",
       "    </tr>\n",
       "    <tr>\n",
       "      <th>9667</th>\n",
       "      <td>s9668</td>\n",
       "      <td>Movie</td>\n",
       "      <td>Harry Brown</td>\n",
       "      <td>Daniel Barber</td>\n",
       "      <td>Michael Caine, Emily Mortimer, Joseph Gilgun, ...</td>\n",
       "      <td>NaN</td>\n",
       "      <td>NaN</td>\n",
       "      <td>2010</td>\n",
       "      <td>R</td>\n",
       "      <td>103 min</td>\n",
       "      <td>Action, Drama, Suspense</td>\n",
       "      <td>Harry Brown, starring two-time Academy Award w...</td>\n",
       "    </tr>\n",
       "  </tbody>\n",
       "</table>\n",
       "</div>"
      ],
      "text/plain": [
       "     show_id     type                    title       director  \\\n",
       "9665   s9666    Movie                  Outpost   Steve Barker   \n",
       "9666   s9667  TV Show  Maradona: Blessed Dream            NaN   \n",
       "9667   s9668    Movie              Harry Brown  Daniel Barber   \n",
       "\n",
       "                                                   cast country date_added  \\\n",
       "9665  Ray Stevenson, Julian Wadham, Richard Brake, M...     NaN        NaN   \n",
       "9666  Esteban Recagno, Ezequiel Stremiz, Luciano Vit...     NaN        NaN   \n",
       "9667  Michael Caine, Emily Mortimer, Joseph Gilgun, ...     NaN        NaN   \n",
       "\n",
       "      release_year rating  duration                listed_in  \\\n",
       "9665          2008      R    90 min                   Action   \n",
       "9666          2021  TV-MA  1 Season            Drama, Sports   \n",
       "9667          2010      R   103 min  Action, Drama, Suspense   \n",
       "\n",
       "                                            description  \n",
       "9665  In war-torn Eastern Europe, a world-weary grou...  \n",
       "9666  The series tells the story of Diego Maradona, ...  \n",
       "9667  Harry Brown, starring two-time Academy Award w...  "
      ]
     },
     "execution_count": 5,
     "metadata": {},
     "output_type": "execute_result"
    }
   ],
   "source": [
    "prime.tail(3)"
   ]
  },
  {
   "cell_type": "markdown",
   "id": "fd30c0ee",
   "metadata": {
    "papermill": {
     "duration": 0.008039,
     "end_time": "2022-12-22T05:54:09.209252",
     "exception": false,
     "start_time": "2022-12-22T05:54:09.201213",
     "status": "completed"
    },
    "tags": []
   },
   "source": [
    "## Getting other general info like null values, shape, size, columns of the dataset"
   ]
  },
  {
   "cell_type": "code",
   "execution_count": 6,
   "id": "bcd1bcad",
   "metadata": {
    "execution": {
     "iopub.execute_input": "2022-12-22T05:54:09.228362Z",
     "iopub.status.busy": "2022-12-22T05:54:09.227473Z",
     "iopub.status.idle": "2022-12-22T05:54:09.259663Z",
     "shell.execute_reply": "2022-12-22T05:54:09.257694Z"
    },
    "papermill": {
     "duration": 0.044794,
     "end_time": "2022-12-22T05:54:09.262376",
     "exception": false,
     "start_time": "2022-12-22T05:54:09.217582",
     "status": "completed"
    },
    "tags": []
   },
   "outputs": [
    {
     "name": "stdout",
     "output_type": "stream",
     "text": [
      "<class 'pandas.core.frame.DataFrame'>\n",
      "RangeIndex: 9668 entries, 0 to 9667\n",
      "Data columns (total 12 columns):\n",
      " #   Column        Non-Null Count  Dtype \n",
      "---  ------        --------------  ----- \n",
      " 0   show_id       9668 non-null   object\n",
      " 1   type          9668 non-null   object\n",
      " 2   title         9668 non-null   object\n",
      " 3   director      7586 non-null   object\n",
      " 4   cast          8435 non-null   object\n",
      " 5   country       672 non-null    object\n",
      " 6   date_added    155 non-null    object\n",
      " 7   release_year  9668 non-null   int64 \n",
      " 8   rating        9331 non-null   object\n",
      " 9   duration      9668 non-null   object\n",
      " 10  listed_in     9668 non-null   object\n",
      " 11  description   9668 non-null   object\n",
      "dtypes: int64(1), object(11)\n",
      "memory usage: 906.5+ KB\n"
     ]
    }
   ],
   "source": [
    "prime.info()"
   ]
  },
  {
   "cell_type": "code",
   "execution_count": 7,
   "id": "0c59e831",
   "metadata": {
    "execution": {
     "iopub.execute_input": "2022-12-22T05:54:09.281900Z",
     "iopub.status.busy": "2022-12-22T05:54:09.280682Z",
     "iopub.status.idle": "2022-12-22T05:54:09.287435Z",
     "shell.execute_reply": "2022-12-22T05:54:09.286449Z"
    },
    "papermill": {
     "duration": 0.018813,
     "end_time": "2022-12-22T05:54:09.289713",
     "exception": false,
     "start_time": "2022-12-22T05:54:09.270900",
     "status": "completed"
    },
    "tags": []
   },
   "outputs": [
    {
     "data": {
      "text/plain": [
       "(9668, 12)"
      ]
     },
     "execution_count": 7,
     "metadata": {},
     "output_type": "execute_result"
    }
   ],
   "source": [
    "prime.shape"
   ]
  },
  {
   "cell_type": "code",
   "execution_count": 8,
   "id": "204b9a9f",
   "metadata": {
    "execution": {
     "iopub.execute_input": "2022-12-22T05:54:09.308994Z",
     "iopub.status.busy": "2022-12-22T05:54:09.308162Z",
     "iopub.status.idle": "2022-12-22T05:54:09.315775Z",
     "shell.execute_reply": "2022-12-22T05:54:09.314641Z"
    },
    "papermill": {
     "duration": 0.019953,
     "end_time": "2022-12-22T05:54:09.318166",
     "exception": false,
     "start_time": "2022-12-22T05:54:09.298213",
     "status": "completed"
    },
    "tags": []
   },
   "outputs": [
    {
     "data": {
      "text/plain": [
       "116016"
      ]
     },
     "execution_count": 8,
     "metadata": {},
     "output_type": "execute_result"
    }
   ],
   "source": [
    "prime.size"
   ]
  },
  {
   "cell_type": "code",
   "execution_count": 9,
   "id": "4a063596",
   "metadata": {
    "execution": {
     "iopub.execute_input": "2022-12-22T05:54:09.337144Z",
     "iopub.status.busy": "2022-12-22T05:54:09.336656Z",
     "iopub.status.idle": "2022-12-22T05:54:09.344925Z",
     "shell.execute_reply": "2022-12-22T05:54:09.343715Z"
    },
    "papermill": {
     "duration": 0.020357,
     "end_time": "2022-12-22T05:54:09.347189",
     "exception": false,
     "start_time": "2022-12-22T05:54:09.326832",
     "status": "completed"
    },
    "tags": []
   },
   "outputs": [
    {
     "data": {
      "text/plain": [
       "Index(['show_id', 'type', 'title', 'director', 'cast', 'country', 'date_added',\n",
       "       'release_year', 'rating', 'duration', 'listed_in', 'description'],\n",
       "      dtype='object')"
      ]
     },
     "execution_count": 9,
     "metadata": {},
     "output_type": "execute_result"
    }
   ],
   "source": [
    "prime.columns"
   ]
  },
  {
   "cell_type": "code",
   "execution_count": 10,
   "id": "8e99aa1d",
   "metadata": {
    "execution": {
     "iopub.execute_input": "2022-12-22T05:54:09.367074Z",
     "iopub.status.busy": "2022-12-22T05:54:09.366239Z",
     "iopub.status.idle": "2022-12-22T05:54:09.382973Z",
     "shell.execute_reply": "2022-12-22T05:54:09.381516Z"
    },
    "papermill": {
     "duration": 0.02978,
     "end_time": "2022-12-22T05:54:09.385780",
     "exception": false,
     "start_time": "2022-12-22T05:54:09.356000",
     "status": "completed"
    },
    "tags": []
   },
   "outputs": [
    {
     "data": {
      "text/plain": [
       "show_id            0\n",
       "type               0\n",
       "title              0\n",
       "director        2082\n",
       "cast            1233\n",
       "country         8996\n",
       "date_added      9513\n",
       "release_year       0\n",
       "rating           337\n",
       "duration           0\n",
       "listed_in          0\n",
       "description        0\n",
       "dtype: int64"
      ]
     },
     "execution_count": 10,
     "metadata": {},
     "output_type": "execute_result"
    }
   ],
   "source": [
    "prime.isnull().sum()"
   ]
  },
  {
   "cell_type": "markdown",
   "id": "d5cbd35d",
   "metadata": {
    "papermill": {
     "duration": 0.008526,
     "end_time": "2022-12-22T05:54:09.403127",
     "exception": false,
     "start_time": "2022-12-22T05:54:09.394601",
     "status": "completed"
    },
    "tags": []
   },
   "source": [
    "### By the use of **.isnull().sum()** function we can see that we have 2082 null values for ***director***, 1233 null values for ***cast***, 8996 null for ***country***,9513 null values for ***date_added*** and ***rating*** have 337 null values\n",
    "\n",
    "## As ***date_added*** and ***show_id*** have highest number of null values and doesn't hold much information so let's just drop these columns from the dataset"
   ]
  },
  {
   "cell_type": "code",
   "execution_count": 11,
   "id": "f92dd9fa",
   "metadata": {
    "execution": {
     "iopub.execute_input": "2022-12-22T05:54:09.422751Z",
     "iopub.status.busy": "2022-12-22T05:54:09.422274Z",
     "iopub.status.idle": "2022-12-22T05:54:09.433738Z",
     "shell.execute_reply": "2022-12-22T05:54:09.432673Z"
    },
    "papermill": {
     "duration": 0.024397,
     "end_time": "2022-12-22T05:54:09.436293",
     "exception": false,
     "start_time": "2022-12-22T05:54:09.411896",
     "status": "completed"
    },
    "tags": []
   },
   "outputs": [],
   "source": [
    "prime.drop('date_added',axis=1,inplace=True)\n",
    "prime.drop('show_id',axis=1,inplace=True)"
   ]
  },
  {
   "cell_type": "code",
   "execution_count": 12,
   "id": "f80b70e5",
   "metadata": {
    "execution": {
     "iopub.execute_input": "2022-12-22T05:54:09.455934Z",
     "iopub.status.busy": "2022-12-22T05:54:09.455437Z",
     "iopub.status.idle": "2022-12-22T05:54:09.471788Z",
     "shell.execute_reply": "2022-12-22T05:54:09.470482Z"
    },
    "papermill": {
     "duration": 0.029472,
     "end_time": "2022-12-22T05:54:09.474785",
     "exception": false,
     "start_time": "2022-12-22T05:54:09.445313",
     "status": "completed"
    },
    "tags": []
   },
   "outputs": [
    {
     "data": {
      "text/html": [
       "<div>\n",
       "<style scoped>\n",
       "    .dataframe tbody tr th:only-of-type {\n",
       "        vertical-align: middle;\n",
       "    }\n",
       "\n",
       "    .dataframe tbody tr th {\n",
       "        vertical-align: top;\n",
       "    }\n",
       "\n",
       "    .dataframe thead th {\n",
       "        text-align: right;\n",
       "    }\n",
       "</style>\n",
       "<table border=\"1\" class=\"dataframe\">\n",
       "  <thead>\n",
       "    <tr style=\"text-align: right;\">\n",
       "      <th></th>\n",
       "      <th>type</th>\n",
       "      <th>title</th>\n",
       "      <th>director</th>\n",
       "      <th>cast</th>\n",
       "      <th>country</th>\n",
       "      <th>release_year</th>\n",
       "      <th>rating</th>\n",
       "      <th>duration</th>\n",
       "      <th>listed_in</th>\n",
       "      <th>description</th>\n",
       "    </tr>\n",
       "  </thead>\n",
       "  <tbody>\n",
       "    <tr>\n",
       "      <th>0</th>\n",
       "      <td>Movie</td>\n",
       "      <td>The Grand Seduction</td>\n",
       "      <td>Don McKellar</td>\n",
       "      <td>Brendan Gleeson, Taylor Kitsch, Gordon Pinsent</td>\n",
       "      <td>Canada</td>\n",
       "      <td>2014</td>\n",
       "      <td>NaN</td>\n",
       "      <td>113 min</td>\n",
       "      <td>Comedy, Drama</td>\n",
       "      <td>A small fishing village must procure a local d...</td>\n",
       "    </tr>\n",
       "    <tr>\n",
       "      <th>1</th>\n",
       "      <td>Movie</td>\n",
       "      <td>Take Care Good Night</td>\n",
       "      <td>Girish Joshi</td>\n",
       "      <td>Mahesh Manjrekar, Abhay Mahajan, Sachin Khedekar</td>\n",
       "      <td>India</td>\n",
       "      <td>2018</td>\n",
       "      <td>13+</td>\n",
       "      <td>110 min</td>\n",
       "      <td>Drama, International</td>\n",
       "      <td>A Metro Family decides to fight a Cyber Crimin...</td>\n",
       "    </tr>\n",
       "  </tbody>\n",
       "</table>\n",
       "</div>"
      ],
      "text/plain": [
       "    type                 title      director  \\\n",
       "0  Movie   The Grand Seduction  Don McKellar   \n",
       "1  Movie  Take Care Good Night  Girish Joshi   \n",
       "\n",
       "                                               cast country  release_year  \\\n",
       "0    Brendan Gleeson, Taylor Kitsch, Gordon Pinsent  Canada          2014   \n",
       "1  Mahesh Manjrekar, Abhay Mahajan, Sachin Khedekar   India          2018   \n",
       "\n",
       "  rating duration             listed_in  \\\n",
       "0    NaN  113 min         Comedy, Drama   \n",
       "1    13+  110 min  Drama, International   \n",
       "\n",
       "                                         description  \n",
       "0  A small fishing village must procure a local d...  \n",
       "1  A Metro Family decides to fight a Cyber Crimin...  "
      ]
     },
     "execution_count": 12,
     "metadata": {},
     "output_type": "execute_result"
    }
   ],
   "source": [
    "prime.head(2)"
   ]
  },
  {
   "cell_type": "markdown",
   "id": "92de2077",
   "metadata": {
    "papermill": {
     "duration": 0.00894,
     "end_time": "2022-12-22T05:54:09.492826",
     "exception": false,
     "start_time": "2022-12-22T05:54:09.483886",
     "status": "completed"
    },
    "tags": []
   },
   "source": [
    "## For remaining null values, let's replace/fill them with appropriate keyword/values"
   ]
  },
  {
   "cell_type": "code",
   "execution_count": 13,
   "id": "358d51ee",
   "metadata": {
    "execution": {
     "iopub.execute_input": "2022-12-22T05:54:09.513549Z",
     "iopub.status.busy": "2022-12-22T05:54:09.513075Z",
     "iopub.status.idle": "2022-12-22T05:54:09.524376Z",
     "shell.execute_reply": "2022-12-22T05:54:09.522896Z"
    },
    "papermill": {
     "duration": 0.024844,
     "end_time": "2022-12-22T05:54:09.526778",
     "exception": false,
     "start_time": "2022-12-22T05:54:09.501934",
     "status": "completed"
    },
    "tags": []
   },
   "outputs": [],
   "source": [
    "prime['director'].fillna('Unknown',inplace=True)\n",
    "prime['cast'].fillna('not mentioned',inplace=True)\n",
    "prime['country'].fillna('Unknown',inplace=True)\n",
    "prime['rating'].fillna('unrated',inplace=True)"
   ]
  },
  {
   "cell_type": "markdown",
   "id": "6e999818",
   "metadata": {
    "papermill": {
     "duration": 0.008815,
     "end_time": "2022-12-22T05:54:09.544736",
     "exception": false,
     "start_time": "2022-12-22T05:54:09.535921",
     "status": "completed"
    },
    "tags": []
   },
   "source": [
    "## Lets check for Null values once again"
   ]
  },
  {
   "cell_type": "code",
   "execution_count": 14,
   "id": "f3d68fe7",
   "metadata": {
    "execution": {
     "iopub.execute_input": "2022-12-22T05:54:09.566615Z",
     "iopub.status.busy": "2022-12-22T05:54:09.565274Z",
     "iopub.status.idle": "2022-12-22T05:54:09.580619Z",
     "shell.execute_reply": "2022-12-22T05:54:09.579351Z"
    },
    "papermill": {
     "duration": 0.028507,
     "end_time": "2022-12-22T05:54:09.583270",
     "exception": false,
     "start_time": "2022-12-22T05:54:09.554763",
     "status": "completed"
    },
    "tags": []
   },
   "outputs": [
    {
     "data": {
      "text/plain": [
       "type            0\n",
       "title           0\n",
       "director        0\n",
       "cast            0\n",
       "country         0\n",
       "release_year    0\n",
       "rating          0\n",
       "duration        0\n",
       "listed_in       0\n",
       "description     0\n",
       "dtype: int64"
      ]
     },
     "execution_count": 14,
     "metadata": {},
     "output_type": "execute_result"
    }
   ],
   "source": [
    "prime.isnull().sum()"
   ]
  },
  {
   "cell_type": "markdown",
   "id": "d4a654fc",
   "metadata": {
    "papermill": {
     "duration": 0.009624,
     "end_time": "2022-12-22T05:54:09.602577",
     "exception": false,
     "start_time": "2022-12-22T05:54:09.592953",
     "status": "completed"
    },
    "tags": []
   },
   "source": [
    "## As we can see that there are no null values remaining, we can proceed to next step"
   ]
  },
  {
   "cell_type": "markdown",
   "id": "8f00854e",
   "metadata": {
    "papermill": {
     "duration": 0.008939,
     "end_time": "2022-12-22T05:54:09.620889",
     "exception": false,
     "start_time": "2022-12-22T05:54:09.611950",
     "status": "completed"
    },
    "tags": []
   },
   "source": [
    "# ***Visualization***"
   ]
  },
  {
   "cell_type": "markdown",
   "id": "2244d673",
   "metadata": {
    "papermill": {
     "duration": 0.00902,
     "end_time": "2022-12-22T05:54:09.639151",
     "exception": false,
     "start_time": "2022-12-22T05:54:09.630131",
     "status": "completed"
    },
    "tags": []
   },
   "source": [
    "## Countplot of content type"
   ]
  },
  {
   "cell_type": "code",
   "execution_count": 15,
   "id": "d2345ee8",
   "metadata": {
    "execution": {
     "iopub.execute_input": "2022-12-22T05:54:09.659736Z",
     "iopub.status.busy": "2022-12-22T05:54:09.659008Z",
     "iopub.status.idle": "2022-12-22T05:54:09.668699Z",
     "shell.execute_reply": "2022-12-22T05:54:09.667502Z"
    },
    "papermill": {
     "duration": 0.022894,
     "end_time": "2022-12-22T05:54:09.671155",
     "exception": false,
     "start_time": "2022-12-22T05:54:09.648261",
     "status": "completed"
    },
    "tags": []
   },
   "outputs": [
    {
     "data": {
      "text/plain": [
       "Movie      7814\n",
       "TV Show    1854\n",
       "Name: type, dtype: int64"
      ]
     },
     "execution_count": 15,
     "metadata": {},
     "output_type": "execute_result"
    }
   ],
   "source": [
    "prime['type'].value_counts()"
   ]
  },
  {
   "cell_type": "code",
   "execution_count": 16,
   "id": "77e10ae8",
   "metadata": {
    "execution": {
     "iopub.execute_input": "2022-12-22T05:54:09.696248Z",
     "iopub.status.busy": "2022-12-22T05:54:09.695688Z",
     "iopub.status.idle": "2022-12-22T05:54:09.970399Z",
     "shell.execute_reply": "2022-12-22T05:54:09.966894Z"
    },
    "papermill": {
     "duration": 0.293319,
     "end_time": "2022-12-22T05:54:09.974082",
     "exception": false,
     "start_time": "2022-12-22T05:54:09.680763",
     "status": "completed"
    },
    "tags": []
   },
   "outputs": [
    {
     "data": {
      "text/plain": [
       "<AxesSubplot:title={'center':'Content Distribution as Per the country'}, xlabel='type', ylabel='count'>"
      ]
     },
     "execution_count": 16,
     "metadata": {},
     "output_type": "execute_result"
    },
    {
     "data": {
      "image/png": "[encoded data removed]",
      "text/plain": [
       "<Figure size 576x288 with 1 Axes>"
      ]
     },
     "metadata": {
      "needs_background": "light"
     },
     "output_type": "display_data"
    }
   ],
   "source": [
    "plt.figure(figsize=(8,4))\n",
    "plt.title('Content Distribution as Per the country',color='red')\n",
    "plt.annotate('7814',xy=(0.0000001,7875)) #Not The Cleanest way I know\n",
    "plt.annotate('1854',xy=(0.9,1895)) #Not The Cleanest way I know\n",
    "sns.countplot(data=prime,x='type',palette=['#00A8E1','black'],dodge=False)"
   ]
  },
  {
   "cell_type": "markdown",
   "id": "b5c5980f",
   "metadata": {
    "papermill": {
     "duration": 0.010526,
     "end_time": "2022-12-22T05:54:09.998968",
     "exception": false,
     "start_time": "2022-12-22T05:54:09.988442",
     "status": "completed"
    },
    "tags": []
   },
   "source": [
    "## Top 5 countries as per the content production"
   ]
  },
  {
   "cell_type": "code",
   "execution_count": 17,
   "id": "82f0c6fa",
   "metadata": {
    "execution": {
     "iopub.execute_input": "2022-12-22T05:54:10.021374Z",
     "iopub.status.busy": "2022-12-22T05:54:10.020827Z",
     "iopub.status.idle": "2022-12-22T05:54:10.062560Z",
     "shell.execute_reply": "2022-12-22T05:54:10.061227Z"
    },
    "papermill": {
     "duration": 0.057261,
     "end_time": "2022-12-22T05:54:10.066272",
     "exception": false,
     "start_time": "2022-12-22T05:54:10.009011",
     "status": "completed"
    },
    "tags": []
   },
   "outputs": [],
   "source": [
    "countries=prime.set_index('title').country.str.split(',',expand=True).stack().reset_index(level=1,drop=True)\n",
    "countries=countries[countries!='Unknown']"
   ]
  },
  {
   "cell_type": "code",
   "execution_count": 18,
   "id": "9db2198c",
   "metadata": {
    "execution": {
     "iopub.execute_input": "2022-12-22T05:54:10.092872Z",
     "iopub.status.busy": "2022-12-22T05:54:10.092290Z",
     "iopub.status.idle": "2022-12-22T05:54:10.394321Z",
     "shell.execute_reply": "2022-12-22T05:54:10.393407Z"
    },
    "papermill": {
     "duration": 0.316331,
     "end_time": "2022-12-22T05:54:10.396888",
     "exception": false,
     "start_time": "2022-12-22T05:54:10.080557",
     "status": "completed"
    },
    "tags": []
   },
   "outputs": [
    {
     "data": {
      "text/plain": [
       "Text(0.5, 0, 'Country')"
      ]
     },
     "execution_count": 18,
     "metadata": {},
     "output_type": "execute_result"
    },
    {
     "data": {
      "image/png": "[encoded data removed]",
      "text/plain": [
       "<Figure size 1296x576 with 1 Axes>"
      ]
     },
     "metadata": {
      "needs_background": "light"
     },
     "output_type": "display_data"
    }
   ],
   "source": [
    "plt.figure(figsize=(18,8))\n",
    "sns.countplot(x=countries,order=countries.value_counts().index[:5],palette=['#00A8E1','black'])\n",
    "plt.title('Top 5 countries as per the content production',color='red',weight='bold')\n",
    "plt.ylabel('Title Count')\n",
    "plt.xlabel('Country')"
   ]
  },
  {
   "cell_type": "markdown",
   "id": "d6140c69",
   "metadata": {
    "papermill": {
     "duration": 0.009678,
     "end_time": "2022-12-22T05:54:10.416747",
     "exception": false,
     "start_time": "2022-12-22T05:54:10.407069",
     "status": "completed"
    },
    "tags": []
   },
   "source": [
    "## Top 15 Ratings as per the Titles"
   ]
  },
  {
   "cell_type": "code",
   "execution_count": 19,
   "id": "9b3757c5",
   "metadata": {
    "execution": {
     "iopub.execute_input": "2022-12-22T05:54:10.439157Z",
     "iopub.status.busy": "2022-12-22T05:54:10.438073Z",
     "iopub.status.idle": "2022-12-22T05:54:10.464574Z",
     "shell.execute_reply": "2022-12-22T05:54:10.463579Z"
    },
    "papermill": {
     "duration": 0.040429,
     "end_time": "2022-12-22T05:54:10.467238",
     "exception": false,
     "start_time": "2022-12-22T05:54:10.426809",
     "status": "completed"
    },
    "tags": []
   },
   "outputs": [],
   "source": [
    "ratings=prime.set_index('title').rating.str.split(',',expand=True).stack().reset_index(level=1,drop=True)\n",
    "ratings=ratings[ratings!='unrated']"
   ]
  },
  {
   "cell_type": "code",
   "execution_count": 20,
   "id": "2b739139",
   "metadata": {
    "execution": {
     "iopub.execute_input": "2022-12-22T05:54:10.489818Z",
     "iopub.status.busy": "2022-12-22T05:54:10.489200Z",
     "iopub.status.idle": "2022-12-22T05:54:10.847171Z",
     "shell.execute_reply": "2022-12-22T05:54:10.845669Z"
    },
    "papermill": {
     "duration": 0.372137,
     "end_time": "2022-12-22T05:54:10.849816",
     "exception": false,
     "start_time": "2022-12-22T05:54:10.477679",
     "status": "completed"
    },
    "tags": []
   },
   "outputs": [
    {
     "data": {
      "text/plain": [
       "Text(0.5, 1.0, 'Top 15 ratings as per the Title Count')"
      ]
     },
     "execution_count": 20,
     "metadata": {},
     "output_type": "execute_result"
    },
    {
     "data": {
      "image/png": "[encoded data removed]",
      "text/plain": [
       "<Figure size 1296x576 with 1 Axes>"
      ]
     },
     "metadata": {
      "needs_background": "light"
     },
     "output_type": "display_data"
    }
   ],
   "source": [
    "plt.figure(figsize=(18,8))\n",
    "sns.countplot(x=ratings,order=ratings.value_counts().index[:15],palette=['#00A8E1','black'])\n",
    "plt.xlabel('Ratings')\n",
    "plt.ylabel('Value Counts')\n",
    "plt.title('Top 15 ratings as per the Title Count',color='red',weight='bold')"
   ]
  },
  {
   "cell_type": "markdown",
   "id": "a3821682",
   "metadata": {
    "papermill": {
     "duration": 0.010197,
     "end_time": "2022-12-22T05:54:10.870846",
     "exception": false,
     "start_time": "2022-12-22T05:54:10.860649",
     "status": "completed"
    },
    "tags": []
   },
   "source": [
    "## Content type distribution as per the ratings"
   ]
  },
  {
   "cell_type": "code",
   "execution_count": 21,
   "id": "73bc6b08",
   "metadata": {
    "execution": {
     "iopub.execute_input": "2022-12-22T05:54:10.894008Z",
     "iopub.status.busy": "2022-12-22T05:54:10.893558Z",
     "iopub.status.idle": "2022-12-22T05:54:11.457653Z",
     "shell.execute_reply": "2022-12-22T05:54:11.456348Z"
    },
    "papermill": {
     "duration": 0.57904,
     "end_time": "2022-12-22T05:54:11.460663",
     "exception": false,
     "start_time": "2022-12-22T05:54:10.881623",
     "status": "completed"
    },
    "tags": []
   },
   "outputs": [
    {
     "data": {
      "text/plain": [
       "Text(0.5, 1.0, 'Content Type Distribution as per the ratings')"
      ]
     },
     "execution_count": 21,
     "metadata": {},
     "output_type": "execute_result"
    },
    {
     "data": {
      "image/png": "[encoded data removed]",
      "text/plain": [
       "<Figure size 1800x864 with 1 Axes>"
      ]
     },
     "metadata": {
      "needs_background": "light"
     },
     "output_type": "display_data"
    }
   ],
   "source": [
    "plt.figure(figsize=(25,12))\n",
    "sns.countplot(x=prime['rating'],hue=prime['type'],palette=['#00A8E1','black'])\n",
    "plt.legend(loc='upper right')\n",
    "plt.title('Content Type Distribution as per the ratings',color='red',weight='bold')"
   ]
  },
  {
   "cell_type": "markdown",
   "id": "a11619ba",
   "metadata": {
    "papermill": {
     "duration": 0.011421,
     "end_time": "2022-12-22T05:54:11.483250",
     "exception": false,
     "start_time": "2022-12-22T05:54:11.471829",
     "status": "completed"
    },
    "tags": []
   },
   "source": [
    "# I will keep updating the notebook once I learn More"
   ]
  },
  {
   "cell_type": "code",
   "execution_count": null,
   "id": "3e3958d6",
   "metadata": {
    "papermill": {
     "duration": 0.011106,
     "end_time": "2022-12-22T05:54:11.505580",
     "exception": false,
     "start_time": "2022-12-22T05:54:11.494474",
     "status": "completed"
    },
    "tags": []
   },
   "outputs": [],
   "source": []
  }
 ],
 "metadata": {
  "kernelspec": {
   "display_name": "Python 3",
   "language": "python",
   "name": "python3"
  },
  "language_info": {
   "codemirror_mode": {
    "name": "ipython",
    "version": 3
   },
   "file_extension": ".py",
   "mimetype": "text/x-python",
   "name": "python",
   "nbconvert_exporter": "python",
   "pygments_lexer": "ipython3",
   "version": "3.7.12"
  },
  "papermill": {
   "default_parameters": {},
   "duration": 14.752815,
   "end_time": "2022-12-22T05:54:12.341087",
   "environment_variables": {},
   "exception": null,
   "input_path": "__notebook__.ipynb",
   "output_path": "__notebook__.ipynb",
   "parameters": {},
   "start_time": "2022-12-22T05:53:57.588272",
   "version": "2.3.4"
  }
 },
 "nbformat": 4,
 "nbformat_minor": 5
}
